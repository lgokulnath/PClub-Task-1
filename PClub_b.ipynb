{
 "cells": [
  {
   "cell_type": "code",
   "execution_count": 2,
   "id": "d88caba0",
   "metadata": {},
   "outputs": [],
   "source": [
    "import pandas as pd\n",
    "import numpy as np\n",
    "import matplotlib.pyplot as plt"
   ]
  },
  {
   "cell_type": "code",
   "execution_count": 3,
   "id": "434abcde",
   "metadata": {},
   "outputs": [
    {
     "data": {
      "text/html": [
       "<div>\n",
       "<style scoped>\n",
       "    .dataframe tbody tr th:only-of-type {\n",
       "        vertical-align: middle;\n",
       "    }\n",
       "\n",
       "    .dataframe tbody tr th {\n",
       "        vertical-align: top;\n",
       "    }\n",
       "\n",
       "    .dataframe thead th {\n",
       "        text-align: right;\n",
       "    }\n",
       "</style>\n",
       "<table border=\"1\" class=\"dataframe\">\n",
       "  <thead>\n",
       "    <tr style=\"text-align: right;\">\n",
       "      <th></th>\n",
       "      <th>X</th>\n",
       "      <th>Y</th>\n",
       "    </tr>\n",
       "  </thead>\n",
       "  <tbody>\n",
       "    <tr>\n",
       "      <th>0</th>\n",
       "      <td>0</td>\n",
       "      <td>0.25</td>\n",
       "    </tr>\n",
       "    <tr>\n",
       "      <th>1</th>\n",
       "      <td>1</td>\n",
       "      <td>1.73</td>\n",
       "    </tr>\n",
       "    <tr>\n",
       "      <th>2</th>\n",
       "      <td>2</td>\n",
       "      <td>3.21</td>\n",
       "    </tr>\n",
       "    <tr>\n",
       "      <th>3</th>\n",
       "      <td>3</td>\n",
       "      <td>4.69</td>\n",
       "    </tr>\n",
       "    <tr>\n",
       "      <th>4</th>\n",
       "      <td>4</td>\n",
       "      <td>6.17</td>\n",
       "    </tr>\n",
       "  </tbody>\n",
       "</table>\n",
       "</div>"
      ],
      "text/plain": [
       "   X     Y\n",
       "0  0  0.25\n",
       "1  1  1.73\n",
       "2  2  3.21\n",
       "3  3  4.69\n",
       "4  4  6.17"
      ]
     },
     "execution_count": 3,
     "metadata": {},
     "output_type": "execute_result"
    }
   ],
   "source": [
    "#opening dataset initalised with y = 1.48x + 0.25\n",
    "clean_signal = pd.read_csv(\"C:\\\\Users\\\\L Gokulnath\\\\Documents\\\\data_pclub.csv\")\n",
    "clean_signal.head()"
   ]
  },
  {
   "cell_type": "code",
   "execution_count": 4,
   "id": "b86799c2",
   "metadata": {},
   "outputs": [
    {
     "name": "stdout",
     "output_type": "stream",
     "text": [
      "[[ 0.31378951  0.88050764]\n",
      " [-0.01331907 -0.43191689]\n",
      " [-0.07763787 -0.13135844]\n",
      " [-0.50683538  0.55329198]\n",
      " [-0.23581165  0.02911373]\n",
      " [-0.25829922 -0.43541063]\n",
      " [-0.80889439  0.41460093]\n",
      " [ 0.23736861  0.40049114]\n",
      " [-0.83600144 -0.27129501]\n",
      " [ 0.69779277 -0.523921  ]\n",
      " [ 0.09090532 -0.55064172]\n",
      " [-0.94237033 -0.14886703]\n",
      " [-0.52258189  0.01477786]\n",
      " [ 0.35117431  1.00433836]\n",
      " [ 0.16336329 -0.04016416]\n",
      " [ 0.31100352 -0.72288848]\n",
      " [ 0.35474382 -0.18456288]\n",
      " [ 0.5848673   0.22823811]\n",
      " [-0.1063289   0.31690884]\n",
      " [ 0.29654068  0.06025083]\n",
      " [ 0.24691079  0.22217194]\n",
      " [ 1.04540282  0.08640903]\n",
      " [-0.3878257  -0.38865932]\n",
      " [ 0.15033336 -0.0769952 ]\n",
      " [ 0.34381284  0.68374787]\n",
      " [ 0.76965283 -0.49822166]\n",
      " [-0.08110339  0.71235278]\n",
      " [ 0.54449478  0.53832105]\n",
      " [ 0.05870907 -0.63026963]\n",
      " [-0.02227353  0.25217549]\n",
      " [-0.04859441  0.33397273]\n",
      " [ 0.69376492  0.07163699]\n",
      " [-0.17977641  0.43653835]\n",
      " [-0.39651256  1.00642605]\n",
      " [-0.06302156  0.16560696]\n",
      " [ 0.38880564 -0.38257731]\n",
      " [ 0.19782511 -0.16197046]\n",
      " [-0.49613642  0.86808415]\n",
      " [ 0.62000859  0.4150382 ]\n",
      " [-0.50712752 -0.11042875]\n",
      " [ 0.57479881 -0.63749213]\n",
      " [-0.30002356  0.23457203]\n",
      " [-0.00469935 -0.38923003]\n",
      " [ 0.83982555  0.65794136]\n",
      " [-1.22248254  0.34939618]\n",
      " [-0.51366341 -0.11452129]\n",
      " [-0.04889867 -0.29612561]\n",
      " [ 0.14753919  0.0087663 ]\n",
      " [ 0.02683606 -0.33816916]\n",
      " [-0.15067524 -0.02928221]\n",
      " [-1.39853672 -0.22707742]\n",
      " [-0.22411691  0.60936136]\n",
      " [-0.17939243 -0.81680679]\n",
      " [-0.76868956  0.4675452 ]\n",
      " [-0.72502873 -0.32500005]\n",
      " [ 0.34945699  0.52790743]\n",
      " [-0.14705691  0.27731876]\n",
      " [-0.11637107 -0.90685807]\n",
      " [-0.4783104  -0.07528279]\n",
      " [-0.1712735  -0.16179648]\n",
      " [ 0.10074918  0.17042756]\n",
      " [ 0.11814497  0.83680519]\n",
      " [-0.54405892  0.09312014]\n",
      " [-0.30944304 -0.44167794]\n",
      " [-0.46225939 -0.46999776]\n",
      " [ 0.24086073 -1.46779943]\n",
      " [ 1.30722381  0.16912199]\n",
      " [ 0.01535059 -0.41524961]\n",
      " [ 1.00659367  0.65702561]\n",
      " [ 0.44877892 -0.50186989]\n",
      " [ 0.16101518  0.1134355 ]\n",
      " [-0.63131209  0.1897981 ]\n",
      " [ 0.51254677 -0.0572548 ]\n",
      " [-0.16368012  0.50208677]\n",
      " [-0.46500983 -0.35343651]\n",
      " [ 1.25963519 -0.64808988]\n",
      " [ 0.91170738 -1.19726703]\n",
      " [-0.31754558 -0.31752202]\n",
      " [ 0.24348888  1.28774425]\n",
      " [-0.35485726  0.33164468]\n",
      " [ 0.36806679  1.19030762]\n",
      " [ 0.01891766 -1.58428047]\n",
      " [ 0.11014617  0.79399515]\n",
      " [-0.37794137  0.78876098]\n",
      " [ 1.11095943 -0.99778985]\n",
      " [ 0.78749406 -0.45239023]\n",
      " [-0.01757401  0.42875376]\n",
      " [-0.01473333  0.75335113]\n",
      " [-0.7742018  -0.36198578]\n",
      " [-0.14931594  0.52156273]\n",
      " [-0.32137985  0.05037797]\n",
      " [ 0.16751888 -0.50836488]\n",
      " [-0.50249984 -0.02373137]\n",
      " [ 0.21299327 -0.20789595]\n",
      " [-0.83150774 -0.28340343]\n",
      " [ 0.36296787 -0.06517801]\n",
      " [ 0.20118076 -0.4487076 ]\n",
      " [-0.34781645  0.20914256]\n",
      " [ 0.33866239  0.20574872]\n",
      " [ 0.21963814  1.07298321]\n",
      " [-0.25519897  0.04366082]]\n"
     ]
    }
   ],
   "source": [
    "mu, sigma = 0, 0.5\n",
    "noise = np.random.normal(mu, sigma, [101,2]) \n",
    "print(noise)"
   ]
  },
  {
   "cell_type": "code",
   "execution_count": 5,
   "id": "aeba056a",
   "metadata": {},
   "outputs": [
    {
     "data": {
      "text/html": [
       "<div>\n",
       "<style scoped>\n",
       "    .dataframe tbody tr th:only-of-type {\n",
       "        vertical-align: middle;\n",
       "    }\n",
       "\n",
       "    .dataframe tbody tr th {\n",
       "        vertical-align: top;\n",
       "    }\n",
       "\n",
       "    .dataframe thead th {\n",
       "        text-align: right;\n",
       "    }\n",
       "</style>\n",
       "<table border=\"1\" class=\"dataframe\">\n",
       "  <thead>\n",
       "    <tr style=\"text-align: right;\">\n",
       "      <th></th>\n",
       "      <th>X</th>\n",
       "      <th>Y</th>\n",
       "    </tr>\n",
       "  </thead>\n",
       "  <tbody>\n",
       "    <tr>\n",
       "      <th>0</th>\n",
       "      <td>0.313790</td>\n",
       "      <td>1.130508</td>\n",
       "    </tr>\n",
       "    <tr>\n",
       "      <th>1</th>\n",
       "      <td>0.986681</td>\n",
       "      <td>1.298083</td>\n",
       "    </tr>\n",
       "    <tr>\n",
       "      <th>2</th>\n",
       "      <td>1.922362</td>\n",
       "      <td>3.078642</td>\n",
       "    </tr>\n",
       "    <tr>\n",
       "      <th>3</th>\n",
       "      <td>2.493165</td>\n",
       "      <td>5.243292</td>\n",
       "    </tr>\n",
       "    <tr>\n",
       "      <th>4</th>\n",
       "      <td>3.764188</td>\n",
       "      <td>6.199114</td>\n",
       "    </tr>\n",
       "    <tr>\n",
       "      <th>...</th>\n",
       "      <td>...</td>\n",
       "      <td>...</td>\n",
       "    </tr>\n",
       "    <tr>\n",
       "      <th>96</th>\n",
       "      <td>96.201181</td>\n",
       "      <td>141.881292</td>\n",
       "    </tr>\n",
       "    <tr>\n",
       "      <th>97</th>\n",
       "      <td>96.652184</td>\n",
       "      <td>144.019143</td>\n",
       "    </tr>\n",
       "    <tr>\n",
       "      <th>98</th>\n",
       "      <td>98.338662</td>\n",
       "      <td>145.495749</td>\n",
       "    </tr>\n",
       "    <tr>\n",
       "      <th>99</th>\n",
       "      <td>99.219638</td>\n",
       "      <td>147.842983</td>\n",
       "    </tr>\n",
       "    <tr>\n",
       "      <th>100</th>\n",
       "      <td>99.744801</td>\n",
       "      <td>148.293661</td>\n",
       "    </tr>\n",
       "  </tbody>\n",
       "</table>\n",
       "<p>101 rows × 2 columns</p>\n",
       "</div>"
      ],
      "text/plain": [
       "             X           Y\n",
       "0     0.313790    1.130508\n",
       "1     0.986681    1.298083\n",
       "2     1.922362    3.078642\n",
       "3     2.493165    5.243292\n",
       "4     3.764188    6.199114\n",
       "..         ...         ...\n",
       "96   96.201181  141.881292\n",
       "97   96.652184  144.019143\n",
       "98   98.338662  145.495749\n",
       "99   99.219638  147.842983\n",
       "100  99.744801  148.293661\n",
       "\n",
       "[101 rows x 2 columns]"
      ]
     },
     "execution_count": 5,
     "metadata": {},
     "output_type": "execute_result"
    }
   ],
   "source": [
    "signal = clean_signal + noise\n",
    "signal"
   ]
  },
  {
   "cell_type": "code",
   "execution_count": 6,
   "id": "3edb9237",
   "metadata": {},
   "outputs": [],
   "source": [
    "signal.to_csv(\"C:\\\\Users\\\\L Gokulnath\\\\Documents\\\\data_final.csv\", index=False)"
   ]
  },
  {
   "cell_type": "code",
   "execution_count": 7,
   "id": "df83128f",
   "metadata": {},
   "outputs": [
    {
     "data": {
      "text/html": [
       "<div>\n",
       "<style scoped>\n",
       "    .dataframe tbody tr th:only-of-type {\n",
       "        vertical-align: middle;\n",
       "    }\n",
       "\n",
       "    .dataframe tbody tr th {\n",
       "        vertical-align: top;\n",
       "    }\n",
       "\n",
       "    .dataframe thead th {\n",
       "        text-align: right;\n",
       "    }\n",
       "</style>\n",
       "<table border=\"1\" class=\"dataframe\">\n",
       "  <thead>\n",
       "    <tr style=\"text-align: right;\">\n",
       "      <th></th>\n",
       "      <th>X</th>\n",
       "      <th>Y</th>\n",
       "    </tr>\n",
       "  </thead>\n",
       "  <tbody>\n",
       "    <tr>\n",
       "      <th>0</th>\n",
       "      <td>0.313790</td>\n",
       "      <td>1.130508</td>\n",
       "    </tr>\n",
       "    <tr>\n",
       "      <th>1</th>\n",
       "      <td>0.986681</td>\n",
       "      <td>1.298083</td>\n",
       "    </tr>\n",
       "    <tr>\n",
       "      <th>2</th>\n",
       "      <td>1.922362</td>\n",
       "      <td>3.078642</td>\n",
       "    </tr>\n",
       "    <tr>\n",
       "      <th>3</th>\n",
       "      <td>2.493165</td>\n",
       "      <td>5.243292</td>\n",
       "    </tr>\n",
       "    <tr>\n",
       "      <th>4</th>\n",
       "      <td>3.764188</td>\n",
       "      <td>6.199114</td>\n",
       "    </tr>\n",
       "    <tr>\n",
       "      <th>...</th>\n",
       "      <td>...</td>\n",
       "      <td>...</td>\n",
       "    </tr>\n",
       "    <tr>\n",
       "      <th>96</th>\n",
       "      <td>96.201181</td>\n",
       "      <td>141.881292</td>\n",
       "    </tr>\n",
       "    <tr>\n",
       "      <th>97</th>\n",
       "      <td>96.652184</td>\n",
       "      <td>144.019143</td>\n",
       "    </tr>\n",
       "    <tr>\n",
       "      <th>98</th>\n",
       "      <td>98.338662</td>\n",
       "      <td>145.495749</td>\n",
       "    </tr>\n",
       "    <tr>\n",
       "      <th>99</th>\n",
       "      <td>99.219638</td>\n",
       "      <td>147.842983</td>\n",
       "    </tr>\n",
       "    <tr>\n",
       "      <th>100</th>\n",
       "      <td>99.744801</td>\n",
       "      <td>148.293661</td>\n",
       "    </tr>\n",
       "  </tbody>\n",
       "</table>\n",
       "<p>101 rows × 2 columns</p>\n",
       "</div>"
      ],
      "text/plain": [
       "             X           Y\n",
       "0     0.313790    1.130508\n",
       "1     0.986681    1.298083\n",
       "2     1.922362    3.078642\n",
       "3     2.493165    5.243292\n",
       "4     3.764188    6.199114\n",
       "..         ...         ...\n",
       "96   96.201181  141.881292\n",
       "97   96.652184  144.019143\n",
       "98   98.338662  145.495749\n",
       "99   99.219638  147.842983\n",
       "100  99.744801  148.293661\n",
       "\n",
       "[101 rows x 2 columns]"
      ]
     },
     "execution_count": 7,
     "metadata": {},
     "output_type": "execute_result"
    }
   ],
   "source": [
    "df = pd.read_csv(\"C:\\\\Users\\\\L Gokulnath\\\\Documents\\\\data_final.csv\")\n",
    "df"
   ]
  },
  {
   "cell_type": "code",
   "execution_count": 8,
   "id": "6336b32a",
   "metadata": {},
   "outputs": [
    {
     "data": {
      "image/png": "[encoded data removed]",
      "text/plain": [
       "<Figure size 432x288 with 1 Axes>"
      ]
     },
     "metadata": {
      "needs_background": "light"
     },
     "output_type": "display_data"
    }
   ],
   "source": [
    "plt.scatter(df.X, df.Y, color= 'red',s=0.2, marker = 'o')\n",
    "plt.show()"
   ]
  },
  {
   "cell_type": "code",
   "execution_count": 13,
   "id": "89dec997",
   "metadata": {},
   "outputs": [
    {
     "name": "stdout",
     "output_type": "stream",
     "text": [
      "m 1.4867781781964888, b -0.002796039603960687, cost 0.7719013394013008 iteration 9999\n"
     ]
    }
   ],
   "source": [
    "# gradient descent for minimising mean absolute error function\n",
    "def gradient_descent(x, y):\n",
    "    m_curr = b_curr = 0\n",
    "    iterations = 10000\n",
    "    n = len(x)\n",
    "    learning_rate = 0.00005\n",
    "    #code for mean absolute error loss function\n",
    "    for i in range(iterations):\n",
    "        y_predicted = m_curr * x + b_curr\n",
    "        cost = (1/n) * sum([abs(val) for val in (y-y_predicted)])\n",
    "        md = bd = 0\n",
    "        for j in range(n):\n",
    "            val = y[j] - y_predicted[j]\n",
    "            if val > 0:\n",
    "                md = md - x[j]\n",
    "                bd = -1\n",
    "            else:\n",
    "                md = md + x[j]\n",
    "                bd = +1\n",
    "        md = md/n\n",
    "        bd = bd/n\n",
    "                \n",
    "        m_curr = m_curr - learning_rate * md\n",
    "        b_curr = b_curr - learning_rate * bd\n",
    "    print (\"m {}, b {}, cost {} iteration {}\".format(m_curr,b_curr,cost, i))\n",
    "    return m_curr, b_curr\n",
    "\n",
    "x = df.X\n",
    "y = df.Y\n",
    "\n",
    "m , b = gradient_descent(x,y)"
   ]
  },
  {
   "cell_type": "code",
   "execution_count": 15,
   "id": "240a3f7f",
   "metadata": {},
   "outputs": [
    {
     "name": "stdout",
     "output_type": "stream",
     "text": [
      "1.4867781781964888\n"
     ]
    },
    {
     "data": {
      "image/png": "[encoded data removed]",
      "text/plain": [
       "<Figure size 432x288 with 1 Axes>"
      ]
     },
     "metadata": {
      "needs_background": "light"
     },
     "output_type": "display_data"
    }
   ],
   "source": [
    "#plt.plot(x, m*x + b, 'r')\n",
    "print(m)\n",
    "y_pred = m*x+b\n",
    "plt.scatter(df.X, df.Y, s=0.3, color='red')\n",
    "plt.plot(x, y_pred,'b')\n",
    "plt.show()"
   ]
  },
  {
   "cell_type": "code",
   "execution_count": 19,
   "id": "d325ce0b",
   "metadata": {},
   "outputs": [
    {
     "data": {
      "text/plain": [
       "0.9994603999853537"
      ]
     },
     "execution_count": 19,
     "metadata": {},
     "output_type": "execute_result"
    }
   ],
   "source": [
    "#calculating Rsquared value\n",
    "y_bar = np.mean(y)\n",
    "#print(y_bar)\n",
    "SST = sum((y - y_pred)**2)\n",
    "SSReg = sum((y - y_bar)**2)\n",
    "Rsquared = 1-SST/SSReg\n",
    "Rsquared"
   ]
  }
 ],
 "metadata": {
  "kernelspec": {
   "display_name": "Python 3",
   "language": "python",
   "name": "python3"
  },
  "language_info": {
   "codemirror_mode": {
    "name": "ipython",
    "version": 3
   },
   "file_extension": ".py",
   "mimetype": "text/x-python",
   "name": "python",
   "nbconvert_exporter": "python",
   "pygments_lexer": "ipython3",
   "version": "3.8.8"
  }
 },
 "nbformat": 4,
 "nbformat_minor": 5
}
