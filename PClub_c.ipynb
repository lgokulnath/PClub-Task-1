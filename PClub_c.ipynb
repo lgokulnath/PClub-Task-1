{
 "cells": [
  {
   "cell_type": "code",
   "execution_count": 1,
   "id": "8d0f5ae0",
   "metadata": {},
   "outputs": [],
   "source": [
    "#import required libraries\n",
    "import numpy as np\n",
    "import pandas as pd\n",
    "import matplotlib.pyplot as plt"
   ]
  },
  {
   "cell_type": "code",
   "execution_count": 2,
   "id": "961b3628",
   "metadata": {},
   "outputs": [
    {
     "data": {
      "text/plain": [
       "array([0.  , 0.01, 0.02, 0.03, 0.04, 0.05, 0.06, 0.07, 0.08, 0.09, 0.1 ,\n",
       "       0.11, 0.12, 0.13, 0.14, 0.15, 0.16, 0.17, 0.18, 0.19, 0.2 , 0.21,\n",
       "       0.22, 0.23, 0.24, 0.25, 0.26, 0.27, 0.28, 0.29, 0.3 , 0.31, 0.32,\n",
       "       0.33, 0.34, 0.35, 0.36, 0.37, 0.38, 0.39, 0.4 , 0.41, 0.42, 0.43,\n",
       "       0.44, 0.45, 0.46, 0.47, 0.48, 0.49, 0.5 , 0.51, 0.52, 0.53, 0.54,\n",
       "       0.55, 0.56, 0.57, 0.58, 0.59, 0.6 , 0.61, 0.62, 0.63, 0.64, 0.65,\n",
       "       0.66, 0.67, 0.68, 0.69, 0.7 , 0.71, 0.72, 0.73, 0.74, 0.75, 0.76,\n",
       "       0.77, 0.78, 0.79, 0.8 , 0.81, 0.82, 0.83, 0.84, 0.85, 0.86, 0.87,\n",
       "       0.88, 0.89, 0.9 , 0.91, 0.92, 0.93, 0.94, 0.95, 0.96, 0.97, 0.98,\n",
       "       0.99])"
      ]
     },
     "execution_count": 2,
     "metadata": {},
     "output_type": "execute_result"
    }
   ],
   "source": [
    "x = np.arange(0, 1, 0.01)\n",
    "x"
   ]
  },
  {
   "cell_type": "code",
   "execution_count": 3,
   "id": "970bf20f",
   "metadata": {},
   "outputs": [
    {
     "data": {
      "text/plain": [
       "array([0.0078 , 0.00821, 0.00902, 0.01023, 0.01184, 0.01385, 0.01626,\n",
       "       0.01907, 0.02228, 0.02589, 0.0299 , 0.03431, 0.03912, 0.04433,\n",
       "       0.04994, 0.05595, 0.06236, 0.06917, 0.07638, 0.08399, 0.092  ,\n",
       "       0.10041, 0.10922, 0.11843, 0.12804, 0.13805, 0.14846, 0.15927,\n",
       "       0.17048, 0.18209, 0.1941 , 0.20651, 0.21932, 0.23253, 0.24614,\n",
       "       0.26015, 0.27456, 0.28937, 0.30458, 0.32019, 0.3362 , 0.35261,\n",
       "       0.36942, 0.38663, 0.40424, 0.42225, 0.44066, 0.45947, 0.47868,\n",
       "       0.49829, 0.5183 , 0.53871, 0.55952, 0.58073, 0.60234, 0.62435,\n",
       "       0.64676, 0.66957, 0.69278, 0.71639, 0.7404 , 0.76481, 0.78962,\n",
       "       0.81483, 0.84044, 0.86645, 0.89286, 0.91967, 0.94688, 0.97449,\n",
       "       1.0025 , 1.03091, 1.05972, 1.08893, 1.11854, 1.14855, 1.17896,\n",
       "       1.20977, 1.24098, 1.27259, 1.3046 , 1.33701, 1.36982, 1.40303,\n",
       "       1.43664, 1.47065, 1.50506, 1.53987, 1.57508, 1.61069, 1.6467 ,\n",
       "       1.68311, 1.71992, 1.75713, 1.79474, 1.83275, 1.87116, 1.90997,\n",
       "       1.94918, 1.98879])"
      ]
     },
     "execution_count": 3,
     "metadata": {},
     "output_type": "execute_result"
    }
   ],
   "source": [
    "# Using polynomial y = 2x^2 + 0.021x + 0.0078\n",
    "y = 2*(x**2) + 0.021*x + 0.0078\n",
    "y"
   ]
  },
  {
   "cell_type": "code",
   "execution_count": 4,
   "id": "d6760148",
   "metadata": {},
   "outputs": [
    {
     "data": {
      "image/png": "[encoded data removed]",
      "text/plain": [
       "<Figure size 432x288 with 1 Axes>"
      ]
     },
     "metadata": {
      "needs_background": "light"
     },
     "output_type": "display_data"
    }
   ],
   "source": [
    "plt.scatter(x, y, s= 0.2)\n",
    "plt.show()"
   ]
  },
  {
   "cell_type": "code",
   "execution_count": 5,
   "id": "8f27dd74",
   "metadata": {},
   "outputs": [],
   "source": [
    "#Adding gaussian noise to data\n",
    "mu, sigma = 0, 0.01\n",
    "noise = np.random.normal(mu, sigma, [100])\n",
    "noise.shape\n",
    "x = np.add(x, noise)\n",
    "noise = np.random.normal(mu, sigma, [100])\n",
    "y = np.add(y, noise)"
   ]
  },
  {
   "cell_type": "code",
   "execution_count": 6,
   "id": "5523f783",
   "metadata": {},
   "outputs": [
    {
     "data": {
      "text/plain": [
       "(100,)"
      ]
     },
     "execution_count": 6,
     "metadata": {},
     "output_type": "execute_result"
    }
   ],
   "source": [
    "x.shape"
   ]
  },
  {
   "cell_type": "code",
   "execution_count": 7,
   "id": "9dedbf60",
   "metadata": {},
   "outputs": [
    {
     "data": {
      "text/plain": [
       "(100,)"
      ]
     },
     "execution_count": 7,
     "metadata": {},
     "output_type": "execute_result"
    }
   ],
   "source": [
    "y.shape"
   ]
  },
  {
   "cell_type": "code",
   "execution_count": 9,
   "id": "fee86fa3",
   "metadata": {},
   "outputs": [
    {
     "data": {
      "image/png": "[encoded data removed]",
      "text/plain": [
       "<Figure size 432x288 with 1 Axes>"
      ]
     },
     "metadata": {
      "needs_background": "light"
     },
     "output_type": "display_data"
    }
   ],
   "source": [
    "#scatter plot after adding some gaussian noise\n",
    "plt.scatter(x, y, s = 0.2)\n",
    "plt.show()"
   ]
  },
  {
   "cell_type": "code",
   "execution_count": 20,
   "id": "b446fa42",
   "metadata": {},
   "outputs": [
    {
     "name": "stdout",
     "output_type": "stream",
     "text": [
      "w1 1.9432807489831656, w2 0.09716459258314382, w3 -0.00850603157770784, cost 1.2750478076939599e-06\n"
     ]
    }
   ],
   "source": [
    "#gradient descent function using loss function of fourth power\n",
    "#let ypredocted = w1x^2+w2x+w3\n",
    "def gradient_descent_3(x, y):\n",
    "    w1_curr = w2_curr = w3_curr = 0\n",
    "    iterations = 500000\n",
    "    n = len(x)\n",
    "    learning_rate = 0.21\n",
    "    cost = 1\n",
    "    #i= 1\n",
    "    for i in range(iterations):\n",
    "        y_predicted = w1_curr * (x**2) + w2_curr * x + w3_curr\n",
    "        cost = (1/n) * sum([val**4 for val in (y-y_predicted)])\n",
    "        #w1d = w2d = w3d = 0\n",
    "        w1d = -(4/n)*sum(((y-y_predicted)**3)*(x**2))   #derivative wrt w1\n",
    "        w2d = -(4/n)*sum(((y-y_predicted)**3)*(x))      #derivative wrt w2\n",
    "        w3d = -(4/n)*sum((y-y_predicted)**3)            #derivative wrt w3\n",
    "        w1_curr = w1_curr - learning_rate * w1d\n",
    "        w2_curr = w2_curr - learning_rate * w2d\n",
    "        w3_curr = w3_curr - learning_rate * w3d\n",
    "\n",
    "    print (\"w1 {}, w2 {}, w3 {}, cost {}\".format(w1_curr,w2_curr,w3_curr,cost))\n",
    "    return w1_curr, w2_curr, w3_curr\n",
    "\n",
    "\n",
    "\n",
    "w1 , w2, w3 = gradient_descent_3(x,y)"
   ]
  },
  {
   "cell_type": "code",
   "execution_count": 21,
   "id": "5dd3bc33",
   "metadata": {},
   "outputs": [
    {
     "data": {
      "text/plain": [
       "<matplotlib.collections.PathCollection at 0x1f276018e20>"
      ]
     },
     "execution_count": 21,
     "metadata": {},
     "output_type": "execute_result"
    },
    {
     "data": {
      "image/png": "[encoded data removed]",
      "text/plain": [
       "<Figure size 432x288 with 1 Axes>"
      ]
     },
     "metadata": {
      "needs_background": "light"
     },
     "output_type": "display_data"
    }
   ],
   "source": [
    "#Blue is the predicted graph\n",
    "#Red are the truth values\n",
    "y_pred = w1*(x**2) + w2*x + w3\n",
    "plt.plot(x, y_pred)\n",
    "plt.scatter(x, y, s = 0.2, color='red')"
   ]
  },
  {
   "cell_type": "code",
   "execution_count": 22,
   "id": "e06afdfd",
   "metadata": {},
   "outputs": [
    {
     "data": {
      "text/plain": [
       "0.9981488638233439"
      ]
     },
     "execution_count": 22,
     "metadata": {},
     "output_type": "execute_result"
    }
   ],
   "source": [
    "#calculating Rsquared value\n",
    "y_bar = np.mean(y)\n",
    "#print(y_bar)\n",
    "SST = sum((y - y_pred)**2)\n",
    "SSReg = sum((y - y_bar)**2)\n",
    "Rsquared = 1-SST/SSReg\n",
    "Rsquared"
   ]
  }
 ],
 "metadata": {
  "kernelspec": {
   "display_name": "Python 3",
   "language": "python",
   "name": "python3"
  },
  "language_info": {
   "codemirror_mode": {
    "name": "ipython",
    "version": 3
   },
   "file_extension": ".py",
   "mimetype": "text/x-python",
   "name": "python",
   "nbconvert_exporter": "python",
   "pygments_lexer": "ipython3",
   "version": "3.8.8"
  }
 },
 "nbformat": 4,
 "nbformat_minor": 5
}
