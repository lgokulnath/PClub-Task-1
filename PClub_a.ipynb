{
 "cells": [
  {
   "cell_type": "code",
   "execution_count": 2,
   "id": "5963b3fc",
   "metadata": {},
   "outputs": [],
   "source": [
    "import pandas as pd\n",
    "import numpy as np\n",
    "import matplotlib.pyplot as plt"
   ]
  },
  {
   "cell_type": "code",
   "execution_count": 3,
   "id": "60d92f40",
   "metadata": {},
   "outputs": [
    {
     "data": {
      "text/html": [
       "<div>\n",
       "<style scoped>\n",
       "    .dataframe tbody tr th:only-of-type {\n",
       "        vertical-align: middle;\n",
       "    }\n",
       "\n",
       "    .dataframe tbody tr th {\n",
       "        vertical-align: top;\n",
       "    }\n",
       "\n",
       "    .dataframe thead th {\n",
       "        text-align: right;\n",
       "    }\n",
       "</style>\n",
       "<table border=\"1\" class=\"dataframe\">\n",
       "  <thead>\n",
       "    <tr style=\"text-align: right;\">\n",
       "      <th></th>\n",
       "      <th>X</th>\n",
       "      <th>Y</th>\n",
       "    </tr>\n",
       "  </thead>\n",
       "  <tbody>\n",
       "    <tr>\n",
       "      <th>0</th>\n",
       "      <td>0.313790</td>\n",
       "      <td>1.130508</td>\n",
       "    </tr>\n",
       "    <tr>\n",
       "      <th>1</th>\n",
       "      <td>0.986681</td>\n",
       "      <td>1.298083</td>\n",
       "    </tr>\n",
       "    <tr>\n",
       "      <th>2</th>\n",
       "      <td>1.922362</td>\n",
       "      <td>3.078642</td>\n",
       "    </tr>\n",
       "    <tr>\n",
       "      <th>3</th>\n",
       "      <td>2.493165</td>\n",
       "      <td>5.243292</td>\n",
       "    </tr>\n",
       "    <tr>\n",
       "      <th>4</th>\n",
       "      <td>3.764188</td>\n",
       "      <td>6.199114</td>\n",
       "    </tr>\n",
       "    <tr>\n",
       "      <th>...</th>\n",
       "      <td>...</td>\n",
       "      <td>...</td>\n",
       "    </tr>\n",
       "    <tr>\n",
       "      <th>96</th>\n",
       "      <td>96.201181</td>\n",
       "      <td>141.881292</td>\n",
       "    </tr>\n",
       "    <tr>\n",
       "      <th>97</th>\n",
       "      <td>96.652184</td>\n",
       "      <td>144.019143</td>\n",
       "    </tr>\n",
       "    <tr>\n",
       "      <th>98</th>\n",
       "      <td>98.338662</td>\n",
       "      <td>145.495749</td>\n",
       "    </tr>\n",
       "    <tr>\n",
       "      <th>99</th>\n",
       "      <td>99.219638</td>\n",
       "      <td>147.842983</td>\n",
       "    </tr>\n",
       "    <tr>\n",
       "      <th>100</th>\n",
       "      <td>99.744801</td>\n",
       "      <td>148.293661</td>\n",
       "    </tr>\n",
       "  </tbody>\n",
       "</table>\n",
       "<p>101 rows × 2 columns</p>\n",
       "</div>"
      ],
      "text/plain": [
       "             X           Y\n",
       "0     0.313790    1.130508\n",
       "1     0.986681    1.298083\n",
       "2     1.922362    3.078642\n",
       "3     2.493165    5.243292\n",
       "4     3.764188    6.199114\n",
       "..         ...         ...\n",
       "96   96.201181  141.881292\n",
       "97   96.652184  144.019143\n",
       "98   98.338662  145.495749\n",
       "99   99.219638  147.842983\n",
       "100  99.744801  148.293661\n",
       "\n",
       "[101 rows x 2 columns]"
      ]
     },
     "execution_count": 3,
     "metadata": {},
     "output_type": "execute_result"
    }
   ],
   "source": [
    "df = pd.read_csv(\"C:\\\\Users\\\\L Gokulnath\\\\Documents\\\\data_final.csv\")\n",
    "df"
   ]
  },
  {
   "cell_type": "code",
   "execution_count": 4,
   "id": "ac681d4e",
   "metadata": {},
   "outputs": [
    {
     "data": {
      "image/png": "[encoded data removed]",
      "text/plain": [
       "<Figure size 432x288 with 1 Axes>"
      ]
     },
     "metadata": {
      "needs_background": "light"
     },
     "output_type": "display_data"
    }
   ],
   "source": [
    "x = df.X\n",
    "y = df.Y\n",
    "plt.scatter(x, y, color= 'red',s=0.2, marker = 'o')\n",
    "plt.show()\n"
   ]
  },
  {
   "cell_type": "code",
   "execution_count": 5,
   "id": "6444ba48",
   "metadata": {},
   "outputs": [
    {
     "name": "stdout",
     "output_type": "stream",
     "text": [
      "m 1.4810846870745982, b 0.02006678261676039, cost 1.503738279163786 iteration 999\n"
     ]
    }
   ],
   "source": [
    "def gradient_descent_2(x, y):\n",
    "    m_curr = b_curr = 0\n",
    "    iterations = 1000\n",
    "    n = len(x)\n",
    "    learning_rate = 0.0001\n",
    "    #code for mean absolute cubic error loss function\n",
    "    for i in range(iterations):\n",
    "        y_predicted = m_curr * x + b_curr\n",
    "        cost = (1/n) * sum([abs(val**3) for val in (y-y_predicted)])\n",
    "        md = bd = 0\n",
    "        for j in range(n):\n",
    "            val = y[j] - y_predicted[j]\n",
    "            if val > 0:\n",
    "                md = md -(3/n)*(x[j]*(val**2))\n",
    "                bd = bd -(3/n)*((val)**2)\n",
    "            else:\n",
    "                md = md +(3/n)*(x[j]*(val**2))\n",
    "                bd = bd +(3/n)*((val)**2)\n",
    "        md = md/n\n",
    "        bd = bd/n\n",
    "        m_curr = m_curr - learning_rate * md\n",
    "        b_curr = b_curr - learning_rate * bd\n",
    "    print (\"m {}, b {}, cost {} iteration {}\".format(m_curr,b_curr,cost, i))\n",
    "    return m_curr, b_curr\n",
    "\n",
    "\n",
    "\n",
    "m , b = gradient_descent_2(x,y)"
   ]
  },
  {
   "cell_type": "code",
   "execution_count": 6,
   "id": "c58cbfba",
   "metadata": {},
   "outputs": [
    {
     "data": {
      "image/png": "[encoded data removed]",
      "text/plain": [
       "<Figure size 432x288 with 1 Axes>"
      ]
     },
     "metadata": {
      "needs_background": "light"
     },
     "output_type": "display_data"
    }
   ],
   "source": [
    "y_pred = m * x + b\n",
    "plt.scatter(df.X, df.Y, s=0.2, color='red')\n",
    "plt.plot(x, y_pred,'b')\n",
    "plt.show()"
   ]
  },
  {
   "cell_type": "code",
   "execution_count": 7,
   "id": "d5cb45e0",
   "metadata": {},
   "outputs": [
    {
     "data": {
      "text/plain": [
       "0.9994747153872429"
      ]
     },
     "execution_count": 7,
     "metadata": {},
     "output_type": "execute_result"
    }
   ],
   "source": [
    "#calculating Rsquared value\n",
    "y_bar = np.mean(y)\n",
    "#print(y_bar)\n",
    "SST = sum((y - y_pred)**2)\n",
    "SSReg = sum((y - y_bar)**2)\n",
    "Rsquared = 1-SST/SSReg\n",
    "Rsquared"
   ]
  }
 ],
 "metadata": {
  "kernelspec": {
   "display_name": "Python 3",
   "language": "python",
   "name": "python3"
  },
  "language_info": {
   "codemirror_mode": {
    "name": "ipython",
    "version": 3
   },
   "file_extension": ".py",
   "mimetype": "text/x-python",
   "name": "python",
   "nbconvert_exporter": "python",
   "pygments_lexer": "ipython3",
   "version": "3.8.8"
  }
 },
 "nbformat": 4,
 "nbformat_minor": 5
}
